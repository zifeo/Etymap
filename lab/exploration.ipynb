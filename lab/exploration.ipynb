{
 "cells": [
  {
   "cell_type": "code",
   "execution_count": 1,
   "metadata": {
    "collapsed": true,
    "scrolled": true
   },
   "outputs": [],
   "source": [
    "% run utils.ipynb"
   ]
  },
  {
   "cell_type": "code",
   "execution_count": 2,
   "metadata": {
    "scrolled": true
   },
   "outputs": [
    {
     "data": {
      "text/html": [
       "<div>\n",
       "<style>\n",
       "    .dataframe thead tr:only-child th {\n",
       "        text-align: right;\n",
       "    }\n",
       "\n",
       "    .dataframe thead th {\n",
       "        text-align: left;\n",
       "    }\n",
       "\n",
       "    .dataframe tbody tr th {\n",
       "        vertical-align: top;\n",
       "    }\n",
       "</style>\n",
       "<table border=\"1\" class=\"dataframe\">\n",
       "  <thead>\n",
       "    <tr style=\"text-align: right;\">\n",
       "      <th></th>\n",
       "      <th>src</th>\n",
       "      <th>rel</th>\n",
       "      <th>to</th>\n",
       "    </tr>\n",
       "  </thead>\n",
       "  <tbody>\n",
       "    <tr>\n",
       "      <th>0</th>\n",
       "      <td>aaq: Pawanobskewi</td>\n",
       "      <td>rel:etymological_origin_of</td>\n",
       "      <td>eng: Penobscot</td>\n",
       "    </tr>\n",
       "    <tr>\n",
       "      <th>1</th>\n",
       "      <td>aaq: senabe</td>\n",
       "      <td>rel:etymological_origin_of</td>\n",
       "      <td>eng: sannup</td>\n",
       "    </tr>\n",
       "    <tr>\n",
       "      <th>2</th>\n",
       "      <td>abe: waniigan</td>\n",
       "      <td>rel:etymological_origin_of</td>\n",
       "      <td>eng: wangan</td>\n",
       "    </tr>\n",
       "    <tr>\n",
       "      <th>3</th>\n",
       "      <td>abe: waniigan</td>\n",
       "      <td>rel:etymological_origin_of</td>\n",
       "      <td>eng: wannigan</td>\n",
       "    </tr>\n",
       "    <tr>\n",
       "      <th>4</th>\n",
       "      <td>abs: beta</td>\n",
       "      <td>rel:etymological_origin_of</td>\n",
       "      <td>zsm: beta</td>\n",
       "    </tr>\n",
       "  </tbody>\n",
       "</table>\n",
       "</div>"
      ],
      "text/plain": [
       "                 src                         rel              to\n",
       "0  aaq: Pawanobskewi  rel:etymological_origin_of  eng: Penobscot\n",
       "1        aaq: senabe  rel:etymological_origin_of     eng: sannup\n",
       "2      abe: waniigan  rel:etymological_origin_of     eng: wangan\n",
       "3      abe: waniigan  rel:etymological_origin_of   eng: wannigan\n",
       "4          abs: beta  rel:etymological_origin_of       zsm: beta"
      ]
     },
     "execution_count": 2,
     "metadata": {},
     "output_type": "execute_result"
    }
   ],
   "source": [
    "df = pd.read_csv('../data/etymwn.tsv', sep='\\t', header=None)\n",
    "df.columns = ['src', 'rel', 'to']\n",
    "df.head()"
   ]
  },
  {
   "cell_type": "code",
   "execution_count": 3,
   "metadata": {
    "scrolled": true
   },
   "outputs": [
    {
     "data": {
      "text/html": [
       "<div>\n",
       "<style>\n",
       "    .dataframe thead tr:only-child th {\n",
       "        text-align: right;\n",
       "    }\n",
       "\n",
       "    .dataframe thead th {\n",
       "        text-align: left;\n",
       "    }\n",
       "\n",
       "    .dataframe tbody tr th {\n",
       "        vertical-align: top;\n",
       "    }\n",
       "</style>\n",
       "<table border=\"1\" class=\"dataframe\">\n",
       "  <thead>\n",
       "    <tr style=\"text-align: right;\">\n",
       "      <th></th>\n",
       "      <th>src</th>\n",
       "      <th>rel</th>\n",
       "      <th>to</th>\n",
       "      <th>src_lang</th>\n",
       "      <th>src_word</th>\n",
       "      <th>to_lang</th>\n",
       "      <th>to_word</th>\n",
       "    </tr>\n",
       "  </thead>\n",
       "  <tbody>\n",
       "    <tr>\n",
       "      <th>0</th>\n",
       "      <td>aaq: Pawanobskewi</td>\n",
       "      <td>rel:etymological_origin_of</td>\n",
       "      <td>eng: Penobscot</td>\n",
       "      <td>aaq</td>\n",
       "      <td>Pawanobskewi</td>\n",
       "      <td>eng</td>\n",
       "      <td>Penobscot</td>\n",
       "    </tr>\n",
       "    <tr>\n",
       "      <th>1</th>\n",
       "      <td>aaq: senabe</td>\n",
       "      <td>rel:etymological_origin_of</td>\n",
       "      <td>eng: sannup</td>\n",
       "      <td>aaq</td>\n",
       "      <td>senabe</td>\n",
       "      <td>eng</td>\n",
       "      <td>sannup</td>\n",
       "    </tr>\n",
       "    <tr>\n",
       "      <th>2</th>\n",
       "      <td>abe: waniigan</td>\n",
       "      <td>rel:etymological_origin_of</td>\n",
       "      <td>eng: wangan</td>\n",
       "      <td>abe</td>\n",
       "      <td>waniigan</td>\n",
       "      <td>eng</td>\n",
       "      <td>wangan</td>\n",
       "    </tr>\n",
       "    <tr>\n",
       "      <th>3</th>\n",
       "      <td>abe: waniigan</td>\n",
       "      <td>rel:etymological_origin_of</td>\n",
       "      <td>eng: wannigan</td>\n",
       "      <td>abe</td>\n",
       "      <td>waniigan</td>\n",
       "      <td>eng</td>\n",
       "      <td>wannigan</td>\n",
       "    </tr>\n",
       "    <tr>\n",
       "      <th>4</th>\n",
       "      <td>abs: beta</td>\n",
       "      <td>rel:etymological_origin_of</td>\n",
       "      <td>zsm: beta</td>\n",
       "      <td>abs</td>\n",
       "      <td>beta</td>\n",
       "      <td>zsm</td>\n",
       "      <td>beta</td>\n",
       "    </tr>\n",
       "  </tbody>\n",
       "</table>\n",
       "</div>"
      ],
      "text/plain": [
       "                 src                         rel              to src_lang  \\\n",
       "0  aaq: Pawanobskewi  rel:etymological_origin_of  eng: Penobscot      aaq   \n",
       "1        aaq: senabe  rel:etymological_origin_of     eng: sannup      aaq   \n",
       "2      abe: waniigan  rel:etymological_origin_of     eng: wangan      abe   \n",
       "3      abe: waniigan  rel:etymological_origin_of   eng: wannigan      abe   \n",
       "4          abs: beta  rel:etymological_origin_of       zsm: beta      abs   \n",
       "\n",
       "       src_word to_lang    to_word  \n",
       "0  Pawanobskewi     eng  Penobscot  \n",
       "1        senabe     eng     sannup  \n",
       "2      waniigan     eng     wangan  \n",
       "3      waniigan     eng   wannigan  \n",
       "4          beta     zsm       beta  "
      ]
     },
     "execution_count": 3,
     "metadata": {},
     "output_type": "execute_result"
    }
   ],
   "source": [
    "df['src_lang'] = df.src.apply(lambda x: x.split(':')[0].strip())\n",
    "df['src_word'] = df.src.apply(lambda x: x.split(':')[1].strip())\n",
    "df['to_lang'] = df.to.apply(lambda x: x.split(':')[0].strip())\n",
    "df['to_word'] = df.to.apply(lambda x: x.split(':')[1].strip())\n",
    "df.head()"
   ]
  },
  {
   "cell_type": "code",
   "execution_count": 10,
   "metadata": {
    "scrolled": true
   },
   "outputs": [
    {
     "data": {
      "text/plain": [
       "array(['rel:etymological_origin_of', 'rel:has_derived_form',\n",
       "       'rel:is_derived_from', 'rel:etymology',\n",
       "       'rel:etymologically_related', 'rel:variant:orthography',\n",
       "       'rel:derived', 'rel:etymologically'], dtype=object)"
      ]
     },
     "execution_count": 10,
     "metadata": {},
     "output_type": "execute_result"
    }
   ],
   "source": [
    "df.rel.unique()"
   ]
  },
  {
   "cell_type": "code",
   "execution_count": 11,
   "metadata": {
    "scrolled": true
   },
   "outputs": [
    {
     "data": {
      "text/plain": [
       "(397,)"
      ]
     },
     "execution_count": 11,
     "metadata": {},
     "output_type": "execute_result"
    }
   ],
   "source": [
    "df.src_lang.unique().shape"
   ]
  },
  {
   "cell_type": "code",
   "execution_count": 12,
   "metadata": {
    "scrolled": true
   },
   "outputs": [
    {
     "data": {
      "text/plain": [
       "(2743415,)"
      ]
     },
     "execution_count": 12,
     "metadata": {},
     "output_type": "execute_result"
    }
   ],
   "source": [
    "df.src_word.unique().shape"
   ]
  },
  {
   "cell_type": "code",
   "execution_count": 13,
   "metadata": {
    "scrolled": true
   },
   "outputs": [
    {
     "data": {
      "text/plain": [
       "(397,)"
      ]
     },
     "execution_count": 13,
     "metadata": {},
     "output_type": "execute_result"
    }
   ],
   "source": [
    "df.to_lang.unique().shape"
   ]
  },
  {
   "cell_type": "code",
   "execution_count": 14,
   "metadata": {
    "scrolled": true
   },
   "outputs": [
    {
     "data": {
      "text/plain": [
       "(2738470,)"
      ]
     },
     "execution_count": 14,
     "metadata": {},
     "output_type": "execute_result"
    }
   ],
   "source": [
    "df.to_word.unique().shape"
   ]
  },
  {
   "cell_type": "code",
   "execution_count": 15,
   "metadata": {},
   "outputs": [
    {
     "data": {
      "text/plain": [
       "(6031431, 7)"
      ]
     },
     "execution_count": 15,
     "metadata": {},
     "output_type": "execute_result"
    }
   ],
   "source": [
    "df.shape"
   ]
  },
  {
   "cell_type": "markdown",
   "metadata": {},
   "source": [
    "# PART 1 : Word graph exploration"
   ]
  },
  {
   "cell_type": "markdown",
   "metadata": {},
   "source": [
    "### Remove ambiguous relationships - about half of dataset"
   ]
  },
  {
   "cell_type": "code",
   "execution_count": 16,
   "metadata": {
    "collapsed": true,
    "scrolled": true
   },
   "outputs": [],
   "source": [
    "relations = df[df.rel  != 'rel:etymology']\n",
    "relations = relations[relations.rel  != 'rel:is_derived_from']\n",
    "relations = relations[relations.rel  != 'rel:etymologically_related']"
   ]
  },
  {
   "cell_type": "code",
   "execution_count": 17,
   "metadata": {
    "collapsed": true,
    "scrolled": true
   },
   "outputs": [],
   "source": [
    "relations = relations[['src_lang', 'src_word', 'to_lang','to_word']]"
   ]
  },
  {
   "cell_type": "code",
   "execution_count": 18,
   "metadata": {
    "scrolled": true
   },
   "outputs": [
    {
     "data": {
      "text/plain": [
       "(2754696, 4)"
      ]
     },
     "execution_count": 18,
     "metadata": {},
     "output_type": "execute_result"
    }
   ],
   "source": [
    "relations.shape"
   ]
  },
  {
   "cell_type": "code",
   "execution_count": 19,
   "metadata": {
    "scrolled": true
   },
   "outputs": [
    {
     "data": {
      "text/plain": [
       "(2708574, 4)"
      ]
     },
     "execution_count": 19,
     "metadata": {},
     "output_type": "execute_result"
    }
   ],
   "source": [
    "relations.drop_duplicates().shape"
   ]
  },
  {
   "cell_type": "markdown",
   "metadata": {},
   "source": [
    "### !!! Mutltiple relations possible between a given src wordLang and dest wordLang !!!"
   ]
  },
  {
   "cell_type": "code",
   "execution_count": 86,
   "metadata": {
    "scrolled": true
   },
   "outputs": [
    {
     "ename": "SyntaxError",
     "evalue": "invalid syntax (<ipython-input-86-5cdc66fa8645>, line 14)",
     "output_type": "error",
     "traceback": [
      "\u001b[0;36m  File \u001b[0;32m\"<ipython-input-86-5cdc66fa8645>\"\u001b[0;36m, line \u001b[0;32m14\u001b[0m\n\u001b[0;31m    depths.append(tmpDepth)\u001b[0m\n\u001b[0m         ^\u001b[0m\n\u001b[0;31mSyntaxError\u001b[0m\u001b[0;31m:\u001b[0m invalid syntax\n"
     ]
    }
   ],
   "source": [
    "def recurse(dataFrame, langWord, currentRelations, depth):\n",
    "    relatedWords = dataFrame[dataFrame.to_word == langWord[1]]\n",
    "    relatedWords = relatedWords[relatedWords.to_lang == langWord[0]]\n",
    "    relatedWords = relatedWords[['src_lang', 'src_word']]\n",
    "    relatedWords = [tuple(x) for x in relatedWords.values]\n",
    "    \n",
    "    depths = [depth]\n",
    "    for langWord in relatedWords:\n",
    "        if langWord not in currentRelations:\n",
    "            depths.append(depth + 1)\n",
    "            currentRelations.append(langWord)\n",
    "            currentRelations, tmpDepth = recurse(dataFrame, langWord, currentRelations, depth \n",
    "            depths.append(tmpDepth)\n",
    "    \n",
    "    return currentRelations, max(depths)"
   ]
  },
  {
   "cell_type": "code",
   "execution_count": 36,
   "metadata": {
    "scrolled": false
   },
   "outputs": [
    {
     "data": {
      "text/plain": [
       "([('deu', 'Fledermaus'),\n",
       "  ('deu', 'Maus'),\n",
       "  ('goh', 'mus'),\n",
       "  ('gml', 'vledermus'),\n",
       "  ('gml', 'mus'),\n",
       "  ('p_gem', 'mus'),\n",
       "  ('p_ine', 'muh₂s'),\n",
       "  ('goh', 'fledarmus')],\n",
       " 4)"
      ]
     },
     "execution_count": 36,
     "metadata": {},
     "output_type": "execute_result"
    }
   ],
   "source": [
    "testLangWord = ('deu', 'Fledermaus')\n",
    "recurse(relations, testLangWord, [testLangWord], 0)"
   ]
  },
  {
   "cell_type": "code",
   "execution_count": 28,
   "metadata": {},
   "outputs": [
    {
     "data": {
      "text/plain": [
       "2451666"
      ]
     },
     "execution_count": 28,
     "metadata": {},
     "output_type": "execute_result"
    }
   ],
   "source": [
    "langWords = relations[['to_lang','to_word']].drop_duplicates()\n",
    "langWords = [tuple(x) for x in langWords.values]\n",
    "len(langWords)"
   ]
  },
  {
   "cell_type": "code",
   "execution_count": 30,
   "metadata": {},
   "outputs": [
    {
     "name": "stdout",
     "output_type": "stream",
     "text": [
      "Numer of samples: 245\n"
     ]
    }
   ],
   "source": [
    "stepSize  = 10000\n",
    "print('Numer of samples: ' + str(int(len(langWords) / stepSize)))"
   ]
  },
  {
   "cell_type": "code",
   "execution_count": 31,
   "metadata": {
    "collapsed": true
   },
   "outputs": [],
   "source": [
    "bar = progressbar.ProgressBar(widgets=[\n",
    "    ' [', progressbar.Timer(), '] ',\n",
    "    progressbar.Bar(),\n",
    "    ' (', progressbar.ETA(), ') ',\n",
    "])"
   ]
  },
  {
   "cell_type": "code",
   "execution_count": 32,
   "metadata": {
    "scrolled": true
   },
   "outputs": [
    {
     "name": "stderr",
     "output_type": "stream",
     "text": [
      " [Elapsed Time: 0:02:10] |###################################| (Time: 0:02:10) \n"
     ]
    }
   ],
   "source": [
    "depths = []\n",
    "numberOfRels = []\n",
    "counter = 0\n",
    "for i  in bar(range(int(len(langWords) / stepSize))):\n",
    "    langWord = langWords[counter]\n",
    "    rels, depth = recurse(relations, langWord, [langWord], 0)\n",
    "    numberOfRels.append(len(rels) - 1)\n",
    "    depths.append(depth)\n",
    "    counter = counter + stepSize"
   ]
  },
  {
   "cell_type": "markdown",
   "metadata": {},
   "source": [
    "## This would take about 10 secs in c++, fck off python"
   ]
  },
  {
   "cell_type": "code",
   "execution_count": 33,
   "metadata": {},
   "outputs": [
    {
     "data": {
      "text/plain": [
       "(array([   0.,  155.,   40.,   26.,   10.,   12.]),\n",
       " array([0, 1, 2, 3, 4, 5, 6]),\n",
       " <a list of 6 Patch objects>)"
      ]
     },
     "execution_count": 33,
     "metadata": {},
     "output_type": "execute_result"
    },
    {
     "data": {
      "image/png": "[encoded data removed]",
      "text/plain": [
       "<matplotlib.figure.Figure at 0x7fd8af0cd1d0>"
      ]
     },
     "metadata": {},
     "output_type": "display_data"
    }
   ],
   "source": [
    "plt.hist(depths, range(max(depths)))"
   ]
  },
  {
   "cell_type": "markdown",
   "metadata": {},
   "source": [
    "### Number of words which have depth x"
   ]
  },
  {
   "cell_type": "code",
   "execution_count": 34,
   "metadata": {},
   "outputs": [
    {
     "data": {
      "text/plain": [
       "(array([   0.,  155.,   40.,   26.,   10.,    9.,    3.,    2.,    0.,\n",
       "           0.,    0.,    0.,    0.,    0.]),\n",
       " array([ 0,  1,  2,  3,  4,  5,  6,  7,  8,  9, 10, 11, 12, 13, 14]),\n",
       " <a list of 14 Patch objects>)"
      ]
     },
     "execution_count": 34,
     "metadata": {},
     "output_type": "execute_result"
    },
    {
     "data": {
      "image/png": "[encoded data removed]",
      "text/plain": [
       "<matplotlib.figure.Figure at 0x7fd8af129f60>"
      ]
     },
     "metadata": {},
     "output_type": "display_data"
    }
   ],
   "source": [
    "plt.hist(depths, range(max(numberOfRels)))"
   ]
  },
  {
   "cell_type": "markdown",
   "metadata": {},
   "source": [
    "### Number or words which have x related words"
   ]
  },
  {
   "cell_type": "markdown",
   "metadata": {},
   "source": [
    "# Language exploration"
   ]
  },
  {
   "cell_type": "code",
   "execution_count": 26,
   "metadata": {},
   "outputs": [
    {
     "data": {
      "text/plain": [
       "397"
      ]
     },
     "execution_count": 26,
     "metadata": {},
     "output_type": "execute_result"
    }
   ],
   "source": [
    "langs = df.src_lang.unique()\n",
    "langs = np.append(langs, df.to_lang.unique())\n",
    "langs = list(set(langs))\n",
    "len(langs)"
   ]
  },
  {
   "cell_type": "code",
   "execution_count": 27,
   "metadata": {
    "collapsed": true
   },
   "outputs": [],
   "source": [
    "bar = progressbar.ProgressBar(widgets=[\n",
    "    ' [', progressbar.Timer(), '] ',\n",
    "    progressbar.Bar(),\n",
    "    ' (', progressbar.ETA(), ') ',\n",
    "])"
   ]
  },
  {
   "cell_type": "code",
   "execution_count": 28,
   "metadata": {},
   "outputs": [
    {
     "name": "stderr",
     "output_type": "stream",
     "text": [
      " [Elapsed Time: 0:04:38] |###################################| (Time: 0:04:38) \n"
     ]
    }
   ],
   "source": [
    "wordCountForLang = dict()\n",
    "for i in bar(range(len(langs))):\n",
    "    lang = langs[i]\n",
    "    toWordsForLang = (df[df.to_lang == lang]).to_word.unique()\n",
    "    wordsForLang = np.append(toWordsForLang, (df[df.src_lang == lang]).src_word.unique())\n",
    "    wordCountForLang[lang] = len(wordsForLang)\n",
    "    "
   ]
  },
  {
   "cell_type": "code",
   "execution_count": 29,
   "metadata": {
    "collapsed": true
   },
   "outputs": [],
   "source": [
    "langAndWordCounts = list(wordCountForLang.items())\n",
    "langAndWordCounts = sorted(langAndWordCounts, key=lambda x: x[1], reverse=True)"
   ]
  },
  {
   "cell_type": "code",
   "execution_count": 30,
   "metadata": {},
   "outputs": [
    {
     "name": "stdout",
     "output_type": "stream",
     "text": [
      "Min words for any language: ('p_gmw', 2)\n",
      "Median words for any language: ('bar', 34)\n",
      "Max words for any language: ('lat', 1282431)\n"
     ]
    }
   ],
   "source": [
    "print(\"Min words for any language: \" + str(langAndWordCounts[-1]))\n",
    "print(\"Median words for any language: \" + str(langAndWordCounts[int(len(langAndWordCounts) / 2)]))\n",
    "print(\"Max words for any language: \" + str(langAndWordCounts[0]))"
   ]
  },
  {
   "cell_type": "code",
   "execution_count": 31,
   "metadata": {},
   "outputs": [
    {
     "data": {
      "image/png": "[encoded data removed]",
      "text/plain": [
       "<matplotlib.figure.Figure at 0x7fc49ea790f0>"
      ]
     },
     "metadata": {},
     "output_type": "display_data"
    }
   ],
   "source": [
    "plt.plot([x[1] for x in langAndWordCounts])\n",
    "plt.yscale('log')"
   ]
  },
  {
   "cell_type": "markdown",
   "metadata": {},
   "source": [
    "### About 100 languages have more than 1000 words "
   ]
  },
  {
   "cell_type": "markdown",
   "metadata": {},
   "source": [
    "# Exploration of french"
   ]
  },
  {
   "cell_type": "code",
   "execution_count": 65,
   "metadata": {},
   "outputs": [
    {
     "data": {
      "text/plain": [
       "250818"
      ]
     },
     "execution_count": 65,
     "metadata": {},
     "output_type": "execute_result"
    }
   ],
   "source": [
    "frenchWords = list(relations[relations.to_lang == 'fra'].to_word.unique())\n",
    "len(frenchWords)"
   ]
  },
  {
   "cell_type": "code",
   "execution_count": 66,
   "metadata": {},
   "outputs": [
    {
     "name": "stdout",
     "output_type": "stream",
     "text": [
      "Numer of samples: 231\n"
     ]
    }
   ],
   "source": [
    "stepSize  = 1084\n",
    "print('Numer of samples: ' + str(int(len(frenchWords) / stepSize)))"
   ]
  },
  {
   "cell_type": "code",
   "execution_count": 67,
   "metadata": {
    "collapsed": true
   },
   "outputs": [],
   "source": [
    "bar = progressbar.ProgressBar(widgets=[\n",
    "    ' [', progressbar.Timer(), '] ',\n",
    "    progressbar.Bar(),\n",
    "    ' (', progressbar.ETA(), ') ',\n",
    "])"
   ]
  },
  {
   "cell_type": "code",
   "execution_count": 68,
   "metadata": {},
   "outputs": [
    {
     "name": "stderr",
     "output_type": "stream",
     "text": [
      " [Elapsed Time: 0:02:26] |###################################| (Time: 0:02:26) \n"
     ]
    }
   ],
   "source": [
    "langs = ['fra']\n",
    "depths = [0]\n",
    "counter = 0\n",
    "for i  in bar(range(int(len(frenchWords) / stepSize))):\n",
    "    langWord = ('fra', frenchWords[counter])\n",
    "    relatedWords, depth = recurse(relations, langWord, [langWord], 0)\n",
    "    depths.append(depth)\n",
    "    langs.extend([x[0] for x in relatedWords])\n",
    "    counter = counter + stepSize"
   ]
  },
  {
   "cell_type": "code",
   "execution_count": 69,
   "metadata": {},
   "outputs": [
    {
     "name": "stdout",
     "output_type": "stream",
     "text": [
      "Number of unique languages related to a french word: 18\n"
     ]
    }
   ],
   "source": [
    "print(\"Number of unique languages related to a french word: \" + str(len(set(langs))))"
   ]
  },
  {
   "cell_type": "code",
   "execution_count": 70,
   "metadata": {},
   "outputs": [
    {
     "data": {
      "text/plain": [
       "(array([   2.,    8.,    3.,  609.,   64.,   20.,    2.,  183.,    2.,    4.]),\n",
       " array([  0. ,   1.7,   3.4,   5.1,   6.8,   8.5,  10.2,  11.9,  13.6,\n",
       "         15.3,  17. ]),\n",
       " <a list of 10 Patch objects>)"
      ]
     },
     "execution_count": 70,
     "metadata": {},
     "output_type": "execute_result"
    },
    {
     "data": {
      "image/png": "[encoded data removed]",
      "text/plain": [
       "<matplotlib.figure.Figure at 0x7fd8906d2160>"
      ]
     },
     "metadata": {},
     "output_type": "display_data"
    }
   ],
   "source": [
    "plt.hist(langs)"
   ]
  },
  {
   "cell_type": "code",
   "execution_count": 71,
   "metadata": {},
   "outputs": [
    {
     "data": {
      "text/plain": [
       "(array([   2.,  114.,   27.,    0.,   34.,   33.,    0.,   15.,    4.,    3.]),\n",
       " array([ 0. ,  0.7,  1.4,  2.1,  2.8,  3.5,  4.2,  4.9,  5.6,  6.3,  7. ]),\n",
       " <a list of 10 Patch objects>)"
      ]
     },
     "execution_count": 71,
     "metadata": {},
     "output_type": "execute_result"
    },
    {
     "data": {
      "image/png": "[encoded data removed]",
      "text/plain": [
       "<matplotlib.figure.Figure at 0x7fd8909a1630>"
      ]
     },
     "metadata": {},
     "output_type": "display_data"
    }
   ],
   "source": [
    "plt.hist(depths)"
   ]
  },
  {
   "cell_type": "markdown",
   "metadata": {},
   "source": [
    "# Exploration of german"
   ]
  },
  {
   "cell_type": "code",
   "execution_count": 73,
   "metadata": {},
   "outputs": [
    {
     "data": {
      "text/plain": [
       "70901"
      ]
     },
     "execution_count": 73,
     "metadata": {},
     "output_type": "execute_result"
    }
   ],
   "source": [
    "germanWords = list(relations[relations.to_lang == 'deu'].to_word.unique())\n",
    "len(germanWords)"
   ]
  },
  {
   "cell_type": "code",
   "execution_count": 80,
   "metadata": {},
   "outputs": [
    {
     "name": "stdout",
     "output_type": "stream",
     "text": [
      "Numer of samples: 250\n"
     ]
    }
   ],
   "source": [
    "stepSize  = 283\n",
    "print('Numer of samples: ' + str(int(len(germanWords) / stepSize)))"
   ]
  },
  {
   "cell_type": "code",
   "execution_count": 81,
   "metadata": {
    "collapsed": true
   },
   "outputs": [],
   "source": [
    "bar = progressbar.ProgressBar(widgets=[\n",
    "    ' [', progressbar.Timer(), '] ',\n",
    "    progressbar.Bar(),\n",
    "    ' (', progressbar.ETA(), ') ',\n",
    "])"
   ]
  },
  {
   "cell_type": "code",
   "execution_count": 82,
   "metadata": {},
   "outputs": [
    {
     "name": "stderr",
     "output_type": "stream",
     "text": [
      " [Elapsed Time: 0:02:24] |###################################| (Time: 0:02:24) \n"
     ]
    }
   ],
   "source": [
    "langs = ['deu']\n",
    "depths = [0]\n",
    "counter = 0\n",
    "for i  in bar(range(int(len(germanWords) / stepSize))):\n",
    "    langWord = ('deu', germanWords[counter])\n",
    "    relatedWords, depth = recurse(relations, langWord, [langWord], 0)\n",
    "    depths.append(depth)\n",
    "    langs.extend([x[0] for x in relatedWords])\n",
    "    counter = counter + stepSize"
   ]
  },
  {
   "cell_type": "code",
   "execution_count": 84,
   "metadata": {},
   "outputs": [
    {
     "name": "stdout",
     "output_type": "stream",
     "text": [
      "Number of unique languages related to a german word: 16\n"
     ]
    }
   ],
   "source": [
    "print(\"Number of unique languages related to a german word: \" + str(len(set(langs))))"
   ]
  },
  {
   "cell_type": "code",
   "execution_count": 83,
   "metadata": {},
   "outputs": [
    {
     "data": {
      "text/plain": [
       "(array([   2.,  666.,   10.,   16.,    5.,   24.,  112.,    4.,    5.,   22.]),\n",
       " array([  0. ,   1.5,   3. ,   4.5,   6. ,   7.5,   9. ,  10.5,  12. ,\n",
       "         13.5,  15. ]),\n",
       " <a list of 10 Patch objects>)"
      ]
     },
     "execution_count": 83,
     "metadata": {},
     "output_type": "execute_result"
    },
    {
     "data": {
      "image/png": "[encoded data removed]",
      "text/plain": [
       "<matplotlib.figure.Figure at 0x7fd8907e1630>"
      ]
     },
     "metadata": {},
     "output_type": "display_data"
    }
   ],
   "source": [
    "plt.hist(langs)"
   ]
  },
  {
   "cell_type": "code",
   "execution_count": 85,
   "metadata": {},
   "outputs": [
    {
     "data": {
      "text/plain": [
       "(array([   1.,  124.,    0.,   53.,    0.,   50.,   15.,    0.,    6.,    2.]),\n",
       " array([ 0. ,  0.6,  1.2,  1.8,  2.4,  3. ,  3.6,  4.2,  4.8,  5.4,  6. ]),\n",
       " <a list of 10 Patch objects>)"
      ]
     },
     "execution_count": 85,
     "metadata": {},
     "output_type": "execute_result"
    },
    {
     "data": {
      "image/png": "[encoded data removed]",
      "text/plain": [
       "<matplotlib.figure.Figure at 0x7fd890353160>"
      ]
     },
     "metadata": {},
     "output_type": "display_data"
    }
   ],
   "source": [
    "plt.hist(depths)"
   ]
  },
  {
   "cell_type": "code",
   "execution_count": null,
   "metadata": {
    "collapsed": true
   },
   "outputs": [],
   "source": []
  }
 ],
 "metadata": {
  "kernelspec": {
   "display_name": "Python 3",
   "language": "python",
   "name": "python3"
  },
  "language_info": {
   "codemirror_mode": {
    "name": "ipython",
    "version": 3
   },
   "file_extension": ".py",
   "mimetype": "text/x-python",
   "name": "python",
   "nbconvert_exporter": "python",
   "pygments_lexer": "ipython3",
   "version": "3.6.3"
  },
  "varInspector": {
   "cols": {
    "lenName": 16,
    "lenType": 16,
    "lenVar": 40
   },
   "kernels_config": {
    "python": {
     "delete_cmd_postfix": "",
     "delete_cmd_prefix": "del ",
     "library": "var_list.py",
     "varRefreshCmd": "print(var_dic_list())"
    },
    "r": {
     "delete_cmd_postfix": ") ",
     "delete_cmd_prefix": "rm(",
     "library": "var_list.r",
     "varRefreshCmd": "cat(var_dic_list()) "
    }
   },
   "types_to_exclude": [
    "module",
    "function",
    "builtin_function_or_method",
    "instance",
    "_Feature"
   ],
   "window_display": false
  }
 },
 "nbformat": 4,
 "nbformat_minor": 2
}
